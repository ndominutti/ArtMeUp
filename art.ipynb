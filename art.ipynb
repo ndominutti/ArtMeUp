{
 "cells": [
  {
   "cell_type": "code",
   "execution_count": 1,
   "metadata": {},
   "outputs": [],
   "source": [
    "from Artist import Artist, ImgsToVideo"
   ]
  },
  {
   "cell_type": "code",
   "execution_count": 2,
   "metadata": {},
   "outputs": [],
   "source": [
    "# artist = Artist()"
   ]
  },
  {
   "cell_type": "code",
   "execution_count": 3,
   "metadata": {},
   "outputs": [],
   "source": [
    "# artist.initialize()"
   ]
  },
  {
   "cell_type": "code",
   "execution_count": 4,
   "metadata": {},
   "outputs": [],
   "source": [
    "# artist.train(epochs=5,\n",
    "#              beta=10,\n",
    "#              verbose=True,\n",
    "#              save_images=True,\n",
    "#              save_step=1,\n",
    "#              verbose_step=1,\n",
    "#              plot=True,\n",
    "#              plot_step=1)"
   ]
  },
  {
   "cell_type": "code",
   "execution_count": 8,
   "metadata": {},
   "outputs": [],
   "source": [
    "vid = ImgsToVideo('output/images/run_12_02_2022_09_16_01', fps=1)"
   ]
  },
  {
   "cell_type": "code",
   "execution_count": 9,
   "metadata": {},
   "outputs": [],
   "source": [
    "vid.images_to_video()"
   ]
  }
 ],
 "metadata": {
  "kernelspec": {
   "display_name": "wsp",
   "language": "python",
   "name": "python3"
  },
  "language_info": {
   "codemirror_mode": {
    "name": "ipython",
    "version": 3
   },
   "file_extension": ".py",
   "mimetype": "text/x-python",
   "name": "python",
   "nbconvert_exporter": "python",
   "pygments_lexer": "ipython3",
   "version": "3.9.13"
  },
  "vscode": {
   "interpreter": {
    "hash": "f7f63bce16e2ebff4a56f04c5a0de10e17aa28932798e1c050cbaa0fa6c9a18b"
   }
  }
 },
 "nbformat": 4,
 "nbformat_minor": 4
}
